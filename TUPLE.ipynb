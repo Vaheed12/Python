{
 "cells": [
  {
   "cell_type": "markdown",
   "id": "320f199c-cf2f-420a-ba00-97cb11fee6c3",
   "metadata": {},
   "source": [
    "# Tuple "
   ]
  },
  {
   "cell_type": "code",
   "execution_count": 5,
   "id": "4b38bcc1-df5a-42fd-8e30-46a392d14e94",
   "metadata": {},
   "outputs": [
    {
     "data": {
      "text/plain": [
       "()"
      ]
     },
     "execution_count": 5,
     "metadata": {},
     "output_type": "execute_result"
    }
   ],
   "source": [
    "tuple1 = ()\n",
    "tuple()"
   ]
  },
  {
   "cell_type": "code",
   "execution_count": 11,
   "id": "58bce645-d086-44b3-bbab-1aa4f4c7d6f3",
   "metadata": {},
   "outputs": [],
   "source": [
    "tuple2 = (10,20,30)"
   ]
  },
  {
   "cell_type": "code",
   "execution_count": 13,
   "id": "ec1682f7-a32d-47ea-97b6-fca52817be4c",
   "metadata": {},
   "outputs": [
    {
     "data": {
      "text/plain": [
       "(10, 20, 30)"
      ]
     },
     "execution_count": 13,
     "metadata": {},
     "output_type": "execute_result"
    }
   ],
   "source": [
    "tuple2"
   ]
  },
  {
   "cell_type": "code",
   "execution_count": 15,
   "id": "07eb8f3e-3f37-4821-af61-1634793e240b",
   "metadata": {},
   "outputs": [],
   "source": [
    "tuple3 = (10,77,20,1,55)"
   ]
  },
  {
   "cell_type": "code",
   "execution_count": 17,
   "id": "b56a9302-0554-4c45-8f3d-ebc5a9075a90",
   "metadata": {},
   "outputs": [
    {
     "data": {
      "text/plain": [
       "(10, 77, 20, 1, 55)"
      ]
     },
     "execution_count": 17,
     "metadata": {},
     "output_type": "execute_result"
    }
   ],
   "source": [
    "tuple3"
   ]
  },
  {
   "cell_type": "code",
   "execution_count": 19,
   "id": "4b7e2747-4285-4e4a-b26b-11dc13eb13d3",
   "metadata": {},
   "outputs": [],
   "source": [
    "tuple4 = ('a','g','u','i','z')"
   ]
  },
  {
   "cell_type": "code",
   "execution_count": 21,
   "id": "d59095dc-940c-4acf-8886-bdc71fb5186c",
   "metadata": {},
   "outputs": [
    {
     "data": {
      "text/plain": [
       "('a', 'g', 'u', 'i', 'z')"
      ]
     },
     "execution_count": 21,
     "metadata": {},
     "output_type": "execute_result"
    }
   ],
   "source": [
    "tuple4"
   ]
  },
  {
   "cell_type": "code",
   "execution_count": 23,
   "id": "fe3b26e6-f149-4906-b871-1533c0ee5649",
   "metadata": {},
   "outputs": [],
   "source": [
    "tuple5 = ('sneha',10,1+2j,True)"
   ]
  },
  {
   "cell_type": "code",
   "execution_count": 25,
   "id": "beff4434-6ebf-48f5-9724-43f10c2828b4",
   "metadata": {},
   "outputs": [
    {
     "data": {
      "text/plain": [
       "('sneha', 10, (1+2j), True)"
      ]
     },
     "execution_count": 25,
     "metadata": {},
     "output_type": "execute_result"
    }
   ],
   "source": [
    "tuple5"
   ]
  },
  {
   "cell_type": "code",
   "execution_count": 27,
   "id": "f2788d45-5c68-4ed9-82b3-040459593edf",
   "metadata": {},
   "outputs": [],
   "source": [
    "t6 = ('sneha',100,33.88,'a')"
   ]
  },
  {
   "cell_type": "code",
   "execution_count": 29,
   "id": "7ce81b8f-52f0-458e-805b-6835cb62f33a",
   "metadata": {},
   "outputs": [
    {
     "data": {
      "text/plain": [
       "('sneha', 100, 33.88, 'a')"
      ]
     },
     "execution_count": 29,
     "metadata": {},
     "output_type": "execute_result"
    }
   ],
   "source": [
    "t6"
   ]
  },
  {
   "cell_type": "code",
   "execution_count": 108,
   "id": "5523c6f1-8edb-4c7e-8076-9c8b915784ff",
   "metadata": {},
   "outputs": [],
   "source": [
    "t7 = ('sneha',25,[50,100],[150,90],{'smiley','vaheed'})"
   ]
  },
  {
   "cell_type": "code",
   "execution_count": 110,
   "id": "f8f3f463-dc54-4de3-a687-372ab6ea7bb5",
   "metadata": {},
   "outputs": [
    {
     "data": {
      "text/plain": [
       "('sneha', 25, [50, 100], [150, 90], {'smiley', 'vaheed'})"
      ]
     },
     "execution_count": 110,
     "metadata": {},
     "output_type": "execute_result"
    }
   ],
   "source": [
    "t7"
   ]
  },
  {
   "cell_type": "code",
   "execution_count": 36,
   "id": "4d86bebd-186b-4a29-837f-6719adafa31e",
   "metadata": {},
   "outputs": [
    {
     "data": {
      "text/plain": [
       "5"
      ]
     },
     "execution_count": 36,
     "metadata": {},
     "output_type": "execute_result"
    }
   ],
   "source": [
    "len(t7)"
   ]
  },
  {
   "cell_type": "markdown",
   "id": "cb7c6939-f25a-4f3b-aa1a-309f59d66270",
   "metadata": {},
   "source": [
    "# Tuple Indexing"
   ]
  },
  {
   "cell_type": "code",
   "execution_count": 40,
   "id": "2ff9a3fb-00fa-44cd-8afa-34de3608b01d",
   "metadata": {},
   "outputs": [
    {
     "data": {
      "text/plain": [
       "10"
      ]
     },
     "execution_count": 40,
     "metadata": {},
     "output_type": "execute_result"
    }
   ],
   "source": [
    "tuple2[0]"
   ]
  },
  {
   "cell_type": "code",
   "execution_count": 42,
   "id": "c03c6e83-0a0d-43bc-a3c4-506f405c770b",
   "metadata": {},
   "outputs": [
    {
     "data": {
      "text/plain": [
       "'a'"
      ]
     },
     "execution_count": 42,
     "metadata": {},
     "output_type": "execute_result"
    }
   ],
   "source": [
    "tuple4[0]"
   ]
  },
  {
   "cell_type": "markdown",
   "id": "1b155c26-db4f-493f-90c9-8b0d36507efd",
   "metadata": {},
   "source": [
    "# Tuple Slicing"
   ]
  },
  {
   "cell_type": "code",
   "execution_count": 45,
   "id": "952b6699-df4e-4a9e-8e4b-4198c951784f",
   "metadata": {},
   "outputs": [],
   "source": [
    "mytuple = ('one','two','three','four','five','six','seven','eight','nine')"
   ]
  },
  {
   "cell_type": "code",
   "execution_count": 48,
   "id": "34bcbe55-15c7-4cc2-9a63-187d78f2ab0e",
   "metadata": {},
   "outputs": [
    {
     "data": {
      "text/plain": [
       "('one', 'two', 'three')"
      ]
     },
     "execution_count": 48,
     "metadata": {},
     "output_type": "execute_result"
    }
   ],
   "source": [
    "mytuple[0:3]\n"
   ]
  },
  {
   "cell_type": "code",
   "execution_count": 50,
   "id": "29c37d1b-0210-41b1-a0bc-d6f822c46676",
   "metadata": {},
   "outputs": [
    {
     "data": {
      "text/plain": [
       "('three', 'four', 'five')"
      ]
     },
     "execution_count": 50,
     "metadata": {},
     "output_type": "execute_result"
    }
   ],
   "source": [
    "mytuple[2:5]"
   ]
  },
  {
   "cell_type": "code",
   "execution_count": 52,
   "id": "ed27411c-40cd-451d-b762-6289ce563fd9",
   "metadata": {},
   "outputs": [
    {
     "data": {
      "text/plain": [
       "('one', 'two')"
      ]
     },
     "execution_count": 52,
     "metadata": {},
     "output_type": "execute_result"
    }
   ],
   "source": [
    "mytuple[:2]"
   ]
  },
  {
   "cell_type": "code",
   "execution_count": 54,
   "id": "740f4e10-162f-4055-857e-6516a0143006",
   "metadata": {},
   "outputs": [
    {
     "data": {
      "text/plain": [
       "('seven', 'eight', 'nine')"
      ]
     },
     "execution_count": 54,
     "metadata": {},
     "output_type": "execute_result"
    }
   ],
   "source": [
    "mytuple[-3:]"
   ]
  },
  {
   "cell_type": "code",
   "execution_count": 56,
   "id": "8ec9ec09-5a5c-4029-9c85-da802f3a2e99",
   "metadata": {},
   "outputs": [
    {
     "data": {
      "text/plain": [
       "('eight', 'nine')"
      ]
     },
     "execution_count": 56,
     "metadata": {},
     "output_type": "execute_result"
    }
   ],
   "source": [
    "mytuple[-2:]"
   ]
  },
  {
   "cell_type": "code",
   "execution_count": 58,
   "id": "e50a22da-a204-4f16-9a62-672fbecd48a3",
   "metadata": {},
   "outputs": [
    {
     "data": {
      "text/plain": [
       "('nine',)"
      ]
     },
     "execution_count": 58,
     "metadata": {},
     "output_type": "execute_result"
    }
   ],
   "source": [
    "mytuple[-1:]"
   ]
  },
  {
   "cell_type": "code",
   "execution_count": 60,
   "id": "e5edc2c6-5a4c-4bdf-806a-b31441b824fa",
   "metadata": {},
   "outputs": [
    {
     "data": {
      "text/plain": [
       "('one', 'two', 'three', 'four', 'five', 'six', 'seven', 'eight', 'nine')"
      ]
     },
     "execution_count": 60,
     "metadata": {},
     "output_type": "execute_result"
    }
   ],
   "source": [
    "mytuple[:]"
   ]
  },
  {
   "cell_type": "markdown",
   "id": "389abe9b-49fd-40f1-85cc-13a23ec1fe15",
   "metadata": {},
   "source": [
    "# Remove & Change Items"
   ]
  },
  {
   "cell_type": "code",
   "execution_count": 63,
   "id": "74260f02-7c4c-4815-ad61-e44271f33eef",
   "metadata": {},
   "outputs": [
    {
     "data": {
      "text/plain": [
       "('one', 'two', 'three', 'four', 'five', 'six', 'seven', 'eight', 'nine')"
      ]
     },
     "execution_count": 63,
     "metadata": {},
     "output_type": "execute_result"
    }
   ],
   "source": [
    "mytuple"
   ]
  },
  {
   "cell_type": "code",
   "execution_count": 65,
   "id": "5f4ed55c-13c3-46a7-8576-a8ac443c2699",
   "metadata": {},
   "outputs": [
    {
     "ename": "TypeError",
     "evalue": "'tuple' object doesn't support item deletion",
     "output_type": "error",
     "traceback": [
      "\u001b[1;31m---------------------------------------------------------------------------\u001b[0m",
      "\u001b[1;31mTypeError\u001b[0m                                 Traceback (most recent call last)",
      "Cell \u001b[1;32mIn[65], line 1\u001b[0m\n\u001b[1;32m----> 1\u001b[0m \u001b[38;5;28;01mdel\u001b[39;00m mytuple[\u001b[38;5;241m0\u001b[39m]\n",
      "\u001b[1;31mTypeError\u001b[0m: 'tuple' object doesn't support item deletion"
     ]
    }
   ],
   "source": [
    "del mytuple[0]"
   ]
  },
  {
   "cell_type": "code",
   "execution_count": 67,
   "id": "8ce1fce2-0dae-46e0-a265-8a05c3a3708e",
   "metadata": {},
   "outputs": [
    {
     "data": {
      "text/plain": [
       "('one', 'two', 'three', 'four', 'five', 'six', 'seven', 'eight', 'nine')"
      ]
     },
     "execution_count": 67,
     "metadata": {},
     "output_type": "execute_result"
    }
   ],
   "source": [
    "mytuple"
   ]
  },
  {
   "cell_type": "code",
   "execution_count": 71,
   "id": "59bf628f-b27b-4a52-ba28-f9c2463bf25f",
   "metadata": {},
   "outputs": [
    {
     "name": "stdout",
     "output_type": "stream",
     "text": [
      "(0, 'one')\n",
      "(1, 'two')\n",
      "(2, 'three')\n",
      "(3, 'four')\n",
      "(4, 'five')\n",
      "(5, 'six')\n",
      "(6, 'seven')\n",
      "(7, 'eight')\n",
      "(8, 'nine')\n"
     ]
    }
   ],
   "source": [
    "for i in enumerate(mytuple):\n",
    "    print(i)"
   ]
  },
  {
   "cell_type": "markdown",
   "id": "29ad9f07-e71b-4efe-96a0-9cc2c6942f85",
   "metadata": {},
   "source": [
    "# Tuple Membership"
   ]
  },
  {
   "cell_type": "code",
   "execution_count": 74,
   "id": "44c36804-2ddd-433a-9e21-576f02c28f46",
   "metadata": {},
   "outputs": [
    {
     "data": {
      "text/plain": [
       "('one', 'two', 'three', 'four', 'five', 'six', 'seven', 'eight', 'nine')"
      ]
     },
     "execution_count": 74,
     "metadata": {},
     "output_type": "execute_result"
    }
   ],
   "source": [
    "mytuple "
   ]
  },
  {
   "cell_type": "code",
   "execution_count": 76,
   "id": "8cbab529-d5af-4793-bbb2-b7deb8bafe1f",
   "metadata": {},
   "outputs": [
    {
     "data": {
      "text/plain": [
       "True"
      ]
     },
     "execution_count": 76,
     "metadata": {},
     "output_type": "execute_result"
    }
   ],
   "source": [
    "'one' in mytuple "
   ]
  },
  {
   "cell_type": "code",
   "execution_count": 78,
   "id": "651e1d13-4c5b-4f7f-a447-1071e0dd603d",
   "metadata": {},
   "outputs": [
    {
     "data": {
      "text/plain": [
       "False"
      ]
     },
     "execution_count": 78,
     "metadata": {},
     "output_type": "execute_result"
    }
   ],
   "source": [
    "'ten' in mytuple"
   ]
  },
  {
   "cell_type": "code",
   "execution_count": 80,
   "id": "b11e9635-67b5-4aec-be61-b9b116861890",
   "metadata": {},
   "outputs": [
    {
     "name": "stdout",
     "output_type": "stream",
     "text": [
      "Three is present in the tuple\n"
     ]
    }
   ],
   "source": [
    "if 'three' in mytuple:\n",
    "    print('Three is present in the tuple')\n",
    "else:\n",
    "    print('Three is not present in the tuple')"
   ]
  },
  {
   "cell_type": "markdown",
   "id": "8232901c-2c8d-4514-8f08-e889f5551392",
   "metadata": {},
   "source": [
    "# Index Position"
   ]
  },
  {
   "cell_type": "code",
   "execution_count": 83,
   "id": "1fe1b329-342b-498b-bff4-30df72577b0b",
   "metadata": {},
   "outputs": [
    {
     "data": {
      "text/plain": [
       "('one', 'two', 'three', 'four', 'five', 'six', 'seven', 'eight', 'nine')"
      ]
     },
     "execution_count": 83,
     "metadata": {},
     "output_type": "execute_result"
    }
   ],
   "source": [
    "mytuple"
   ]
  },
  {
   "cell_type": "code",
   "execution_count": 85,
   "id": "558387e3-1cba-49ee-a720-52ba04898386",
   "metadata": {},
   "outputs": [
    {
     "data": {
      "text/plain": [
       "0"
      ]
     },
     "execution_count": 85,
     "metadata": {},
     "output_type": "execute_result"
    }
   ],
   "source": [
    "mytuple.index('one')"
   ]
  },
  {
   "cell_type": "code",
   "execution_count": 87,
   "id": "778fc309-abe5-416d-86e5-a656aa16366f",
   "metadata": {},
   "outputs": [
    {
     "data": {
      "text/plain": [
       "2"
      ]
     },
     "execution_count": 87,
     "metadata": {},
     "output_type": "execute_result"
    }
   ],
   "source": [
    "mytuple.index('three')"
   ]
  },
  {
   "cell_type": "code",
   "execution_count": 89,
   "id": "daf53c4e-c90d-4629-849f-4bf77edc7c9c",
   "metadata": {},
   "outputs": [
    {
     "data": {
      "text/plain": [
       "4"
      ]
     },
     "execution_count": 89,
     "metadata": {},
     "output_type": "execute_result"
    }
   ],
   "source": [
    "mytuple.index('five')"
   ]
  },
  {
   "cell_type": "code",
   "execution_count": 91,
   "id": "45aa7fdc-a90e-428c-8e6d-a0e8eeec0596",
   "metadata": {},
   "outputs": [
    {
     "data": {
      "text/plain": [
       "('one', 'two', 'three', 'four', 'five', 'six', 'seven', 'eight', 'nine')"
      ]
     },
     "execution_count": 91,
     "metadata": {},
     "output_type": "execute_result"
    }
   ],
   "source": [
    "mytuple"
   ]
  },
  {
   "cell_type": "code",
   "execution_count": 93,
   "id": "3caaf8de-86c8-4467-a0da-4cec7380695f",
   "metadata": {},
   "outputs": [
    {
     "data": {
      "text/plain": [
       "1"
      ]
     },
     "execution_count": 93,
     "metadata": {},
     "output_type": "execute_result"
    }
   ],
   "source": [
    "mytuple.index('two')"
   ]
  },
  {
   "cell_type": "markdown",
   "id": "2af191bc-feba-4ca1-beea-56f6f91537bc",
   "metadata": {},
   "source": [
    "# Sorting"
   ]
  },
  {
   "cell_type": "code",
   "execution_count": 102,
   "id": "5c9578e9-a6e3-43d9-ad28-7f34114166c8",
   "metadata": {},
   "outputs": [],
   "source": [
    "mytuple2 = (22,24,99,12,6,90,69)"
   ]
  },
  {
   "cell_type": "code",
   "execution_count": 104,
   "id": "cf741cf2-a289-4b62-9895-a34369a30092",
   "metadata": {},
   "outputs": [
    {
     "data": {
      "text/plain": [
       "[6, 12, 22, 24, 69, 90, 99]"
      ]
     },
     "execution_count": 104,
     "metadata": {},
     "output_type": "execute_result"
    }
   ],
   "source": [
    "sorted(mytuple2)"
   ]
  },
  {
   "cell_type": "code",
   "execution_count": 106,
   "id": "4588c29d-a78d-4768-a03b-35764cccee03",
   "metadata": {},
   "outputs": [
    {
     "data": {
      "text/plain": [
       "[99, 90, 69, 24, 22, 12, 6]"
      ]
     },
     "execution_count": 106,
     "metadata": {},
     "output_type": "execute_result"
    }
   ],
   "source": [
    "sorted(mytuple2, reverse=True)"
   ]
  },
  {
   "cell_type": "code",
   "execution_count": null,
   "id": "43925702-5b13-4172-99e5-feb6b7701272",
   "metadata": {},
   "outputs": [],
   "source": []
  }
 ],
 "metadata": {
  "kernelspec": {
   "display_name": "Python 3 (ipykernel)",
   "language": "python",
   "name": "python3"
  },
  "language_info": {
   "codemirror_mode": {
    "name": "ipython",
    "version": 3
   },
   "file_extension": ".py",
   "mimetype": "text/x-python",
   "name": "python",
   "nbconvert_exporter": "python",
   "pygments_lexer": "ipython3",
   "version": "3.12.7"
  }
 },
 "nbformat": 4,
 "nbformat_minor": 5
}
